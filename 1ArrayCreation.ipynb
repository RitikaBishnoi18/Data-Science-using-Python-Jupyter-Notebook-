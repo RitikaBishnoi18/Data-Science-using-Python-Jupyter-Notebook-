{
 "cells": [
  {
   "cell_type": "code",
   "execution_count": 1,
   "id": "a289665a-2696-44a3-bd49-6d9c9304ffeb",
   "metadata": {},
   "outputs": [],
   "source": [
    "import numpy as np"
   ]
  },
  {
   "cell_type": "code",
   "execution_count": 3,
   "id": "f1e3307e-de54-4fc6-af26-2c4b921c58e6",
   "metadata": {},
   "outputs": [
    {
     "name": "stdout",
     "output_type": "stream",
     "text": [
      "[[1 2]\n",
      " [3 4]\n",
      " [5 6]\n",
      " [7 8]]\n",
      "[[1 2]\n",
      " [3 4]\n",
      " [5 6]\n",
      " [7 8]]\n",
      "[[1 2 5 6]\n",
      " [3 4 7 8]]\n",
      "[[1 2 5 6]\n",
      " [3 4 7 8]]\n"
     ]
    }
   ],
   "source": [
    "a=np.array([[1,2],[3,4]])\n",
    "b=np.array([[5,6],[7,8]])\n",
    "# these both add as new row\n",
    "print(np.concatenate([a,b],axis=0))# add in the same axis \n",
    "print(np.vstack([a,b]))\n",
    "\n",
    "#these both add a new column \n",
    "print(np.concatenate([a,b],axis=1))# nest new one into axis of other\n",
    "print(np.hstack([a,b]))"
   ]
  },
  {
   "cell_type": "code",
   "execution_count": 14,
   "id": "47904bf3-eca7-42fb-b276-46149408c5d9",
   "metadata": {},
   "outputs": [
    {
     "name": "stdout",
     "output_type": "stream",
     "text": [
      "(2, 2)\n",
      "(2, 3)\n"
     ]
    }
   ],
   "source": [
    "#x=np.array([[1,2],[3,4]])\n",
    "#y=np.array([[5,6,7],[7,8,9]])\n",
    "\n",
    "#print(np.concatenate([x,y],axis=0))\n",
    "#print(np.vstack([x,y]))\n",
    "\n",
    "\n",
    "#print(np.concatenate([x,y],axis=1))\n",
    "#print(np.hstack([x,y]))\n",
    "print(x.shape)\n",
    "print(y.shape)\n",
    "#Wrong because shape of both x and y are different"
   ]
  },
  {
   "cell_type": "code",
   "execution_count": null,
   "id": "81cbbe0e-46a4-4029-9dda-453d8a189028",
   "metadata": {},
   "outputs": [],
   "source": [
    "x=np.array([[1,2],[3,4]])\n",
    "y=np.array([[5,6,7],[7,8,9]])"
   ]
  },
  {
   "cell_type": "code",
   "execution_count": 4,
   "id": "c7df6e40-7b6f-4d18-9b95-825a25789eb3",
   "metadata": {},
   "outputs": [
    {
     "name": "stdout",
     "output_type": "stream",
     "text": [
      "[array([1, 2, 3]), array([4, 5, 6])]\n",
      "[array([1, 2]), array([3, 4]), array([5, 6])]\n",
      "[array([1, 2]), array([3, 4]), array([5]), array([6])]\n",
      "[array([1, 2]), array([3]), array([4]), array([5]), array([6])]\n",
      "[array([1]), array([2]), array([3]), array([4]), array([5]), array([6])]\n",
      "[array([1]), array([2]), array([3]), array([4]), array([5]), array([6]), array([], dtype=int64)]\n"
     ]
    }
   ],
   "source": [
    "c=np.array([1,2,3,4,5,6])\n",
    "print(np.array_split(c,2))\n",
    "print(np.array_split(c,3))\n",
    "print(np.array_split(c,4))\n",
    "print(np.array_split(c,5))\n",
    "print(np.array_split(c,6))\n",
    "print(np.array_split(c,7))"
   ]
  },
  {
   "cell_type": "code",
   "execution_count": 9,
   "id": "257cdd90-c9b0-4998-8942-4b4114fd4532",
   "metadata": {},
   "outputs": [
    {
     "name": "stdout",
     "output_type": "stream",
     "text": [
      "[array([[1, 2, 3]]), array([[4, 5, 6]])]\n",
      "[array([[1, 2, 3]]), array([[4, 5, 6]]), array([], shape=(0, 3), dtype=int64)]\n",
      "[array([[1, 2, 3]]), array([[4, 5, 6]]), array([], shape=(0, 3), dtype=int64), array([], shape=(0, 3), dtype=int64)]\n",
      "[array([[1, 2, 3]]), array([[4, 5, 6]]), array([], shape=(0, 3), dtype=int64), array([], shape=(0, 3), dtype=int64), array([], shape=(0, 3), dtype=int64)]\n",
      "[array([[1, 2, 3]]), array([[4, 5, 6]]), array([], shape=(0, 3), dtype=int64), array([], shape=(0, 3), dtype=int64), array([], shape=(0, 3), dtype=int64), array([], shape=(0, 3), dtype=int64)]\n",
      "[array([[1, 2, 3]]), array([[4, 5, 6]]), array([], shape=(0, 3), dtype=int64), array([], shape=(0, 3), dtype=int64), array([], shape=(0, 3), dtype=int64), array([], shape=(0, 3), dtype=int64), array([], shape=(0, 3), dtype=int64)]\n"
     ]
    }
   ],
   "source": [
    "c=np.array([[1,2,3],[4,5,6]])\n",
    "print(np.array_split(c,2))\n",
    "print(np.array_split(c,3))\n",
    "print(np.array_split(c,4))\n",
    "print(np.array_split(c,5))\n",
    "print(np.array_split(c,6))\n",
    "print(np.array_split(c,7))"
   ]
  },
  {
   "cell_type": "code",
   "execution_count": null,
   "id": "b82ce5f9-f713-4b46-90c1-e392c58ae2e5",
   "metadata": {},
   "outputs": [],
   "source": []
  }
 ],
 "metadata": {
  "kernelspec": {
   "display_name": "Python 3 (ipykernel)",
   "language": "python",
   "name": "python3"
  },
  "language_info": {
   "codemirror_mode": {
    "name": "ipython",
    "version": 3
   },
   "file_extension": ".py",
   "mimetype": "text/x-python",
   "name": "python",
   "nbconvert_exporter": "python",
   "pygments_lexer": "ipython3",
   "version": "3.11.3"
  }
 },
 "nbformat": 4,
 "nbformat_minor": 5
}
