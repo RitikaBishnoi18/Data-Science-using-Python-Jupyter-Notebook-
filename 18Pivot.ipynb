{
 "cells": [
  {
   "cell_type": "code",
   "execution_count": 6,
   "id": "b0264a70-47c8-40ef-aca0-804dd553c467",
   "metadata": {},
   "outputs": [
    {
     "name": "stdout",
     "output_type": "stream",
     "text": [
      "Product    A    B\n",
      "Month            \n",
      "Apr      NaN  3.0\n",
      "Feb      NaN  1.0\n",
      "Jan      2.0  NaN\n",
      "March    4.0  NaN\n"
     ]
    }
   ],
   "source": [
    "import pandas as pd\n",
    "\n",
    "data = {\"CustomerID\": [100, 100, 101, 102],\n",
    "        \"Product\": ['A', 'B', 'A', 'B'],\n",
    "        \"Quantity\": [2, 1, 4, 3],\n",
    "        \"Month\": ['Jan', 'Feb', 'March', 'Apr']}\n",
    "df = pd.DataFrame(data)\n",
    "\n",
    "# Pivot table showing total quantity sold for each product by month\n",
    "pivot_table = df.pivot(index='Month', columns='Product', values='Quantity')\n",
    "print(pivot_table)#No duplicate values should be there "
   ]
  },
  {
   "cell_type": "code",
   "execution_count": 9,
   "id": "cdb0396d-23b1-40e4-a3b6-ed93c5392b54",
   "metadata": {},
   "outputs": [
    {
     "data": {
      "text/html": [
       "<div>\n",
       "<style scoped>\n",
       "    .dataframe tbody tr th:only-of-type {\n",
       "        vertical-align: middle;\n",
       "    }\n",
       "\n",
       "    .dataframe tbody tr th {\n",
       "        vertical-align: top;\n",
       "    }\n",
       "\n",
       "    .dataframe thead th {\n",
       "        text-align: right;\n",
       "    }\n",
       "</style>\n",
       "<table border=\"1\" class=\"dataframe\">\n",
       "  <thead>\n",
       "    <tr style=\"text-align: right;\">\n",
       "      <th>Product</th>\n",
       "      <th>A</th>\n",
       "      <th>B</th>\n",
       "      <th>All</th>\n",
       "    </tr>\n",
       "    <tr>\n",
       "      <th>Month</th>\n",
       "      <th></th>\n",
       "      <th></th>\n",
       "      <th></th>\n",
       "    </tr>\n",
       "  </thead>\n",
       "  <tbody>\n",
       "    <tr>\n",
       "      <th>Feb</th>\n",
       "      <td>NaN</td>\n",
       "      <td>2.0</td>\n",
       "      <td>2</td>\n",
       "    </tr>\n",
       "    <tr>\n",
       "      <th>Jan</th>\n",
       "      <td>1.0</td>\n",
       "      <td>1.0</td>\n",
       "      <td>2</td>\n",
       "    </tr>\n",
       "    <tr>\n",
       "      <th>All</th>\n",
       "      <td>1.0</td>\n",
       "      <td>3.0</td>\n",
       "      <td>4</td>\n",
       "    </tr>\n",
       "  </tbody>\n",
       "</table>\n",
       "</div>"
      ],
      "text/plain": [
       "Product    A    B  All\n",
       "Month                 \n",
       "Feb      NaN  2.0    2\n",
       "Jan      1.0  1.0    2\n",
       "All      1.0  3.0    4"
      ]
     },
     "execution_count": 9,
     "metadata": {},
     "output_type": "execute_result"
    }
   ],
   "source": [
    "data = {\"CustomerID\": [100, 100, 101, 102],\n",
    "        \"Product\": ['A', 'B', 'B', 'B'],\n",
    "        \"Quantity\": [2, 1, 4, 3],\n",
    "        \"Month\": ['Jan', 'Feb', 'Jan', 'Feb']}\n",
    "df=pd.DataFrame(data)\n",
    "df.pivot_table(index=\"Month\",columns=\"Product\",values=\"CustomerID\",aggfunc=\"count\",margins=True)"
   ]
  },
  {
   "cell_type": "code",
   "execution_count": null,
   "id": "f05548da-c67c-43ed-a883-0979978fc6c7",
   "metadata": {},
   "outputs": [],
   "source": []
  }
 ],
 "metadata": {
  "kernelspec": {
   "display_name": "Python 3 (ipykernel)",
   "language": "python",
   "name": "python3"
  },
  "language_info": {
   "codemirror_mode": {
    "name": "ipython",
    "version": 3
   },
   "file_extension": ".py",
   "mimetype": "text/x-python",
   "name": "python",
   "nbconvert_exporter": "python",
   "pygments_lexer": "ipython3",
   "version": "3.11.3"
  }
 },
 "nbformat": 4,
 "nbformat_minor": 5
}
