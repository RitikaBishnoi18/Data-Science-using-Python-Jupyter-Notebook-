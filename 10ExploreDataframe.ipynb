{
 "cells": [
  {
   "cell_type": "code",
   "execution_count": 1,
   "id": "f4359e80-33f2-4f07-a3e5-8def2ac83dea",
   "metadata": {},
   "outputs": [],
   "source": [
    "import pandas as pd"
   ]
  },
  {
   "cell_type": "code",
   "execution_count": 6,
   "id": "dbd7922e-919a-4266-8fc8-1859dc17d8b3",
   "metadata": {},
   "outputs": [
    {
     "name": "stdout",
     "output_type": "stream",
     "text": [
      "   First Name Last Name                        Email UniqueCode Company Name  \\\n",
      "0   Test user       hjv                          jhv     jhhbjh           hj   \n",
      "1        User      User                  mvfne.sd.ds    AGG0I50            f   \n",
      "2        User      User                  mvfne.sd.ds    YK0U9D6            f   \n",
      "3        User      User                  mvfne.sd.ds    899FICB            f   \n",
      "4        User      User                  mvfne.sd.ds    65BZA8C            f   \n",
      "..        ...       ...                          ...        ...          ...   \n",
      "70     Khushi         K        khushi.k@hrontips.com    4S09VDB           52   \n",
      "71    Sankalp    Mishra  sankalp.mishra@hrontips.com    09VQY5A           53   \n",
      "72    Neelesh     Singh   neelesh.singh@hrontips.com    2YR3S9I           54   \n",
      "73    Sandeep    Gautam  sandeep.gautam@hrontips.com    NKQ65K6           55   \n",
      "74      Ankur    Rajput    ankur.rajput@hrontips.com    A94P8EU           56   \n",
      "\n",
      "   Job Title  \n",
      "0         hj  \n",
      "1          h  \n",
      "2          h  \n",
      "3          h  \n",
      "4          h  \n",
      "..       ...  \n",
      "70        52  \n",
      "71        53  \n",
      "72        54  \n",
      "73        55  \n",
      "74        56  \n",
      "\n",
      "[75 rows x 6 columns]\n"
     ]
    }
   ],
   "source": [
    "df=pd.read_excel(\"C:/Users/Riya/Downloads/User Data.xlsx\")\n",
    "print(df)#show starting 5 entries and last 5 entries"
   ]
  },
  {
   "cell_type": "code",
   "execution_count": 7,
   "id": "3a740a98-cf5c-4e17-826e-7390fc0c4748",
   "metadata": {},
   "outputs": [
    {
     "name": "stdout",
     "output_type": "stream",
     "text": [
      "  First Name Last Name        Email UniqueCode Company Name Job Title\n",
      "0  Test user       hjv          jhv     jhhbjh           hj        hj\n",
      "1       User      User  mvfne.sd.ds    AGG0I50            f         h\n",
      "2       User      User  mvfne.sd.ds    YK0U9D6            f         h\n",
      "3       User      User  mvfne.sd.ds    899FICB            f         h\n",
      "4       User      User  mvfne.sd.ds    65BZA8C            f         h\n",
      "5       User      User  mvfne.sd.ds    XEW3L18            f         h\n",
      "6       User      User  mvfne.sd.ds    Y74TA1P            f         h\n",
      "7       User      User  mvfne.sd.ds    JF1J1V6            f         h\n",
      "8       User        UT  mvfne.sd.ds    GT1J3I6            f         h\n",
      "9       User      User  mvfne.sd.ds    5FA7QO9            f         h\n"
     ]
    }
   ],
   "source": [
    "print(df.head(10))#show starting n entries\n"
   ]
  },
  {
   "cell_type": "code",
   "execution_count": 8,
   "id": "0c4c7f3e-6eba-4d6d-8655-eee12d9708e8",
   "metadata": {},
   "outputs": [
    {
     "name": "stdout",
     "output_type": "stream",
     "text": [
      "   First Name Last Name                        Email UniqueCode Company Name  \\\n",
      "65     Khushi         K        khushi.k@hrontips.com    3KJ0Q8S           47   \n",
      "66    Sankalp    Mishra  sankalp.mishra@hrontips.com    B0P2NK9           48   \n",
      "67    Neelesh     Singh   neelesh.singh@hrontips.com    J38OZN8           49   \n",
      "68    Sandeep    Gautam  sandeep.gautam@hrontips.com    Y0K79UZ           50   \n",
      "69      Ankur    Rajput    ankur.rajput@hrontips.com    ENS788S           51   \n",
      "70     Khushi         K        khushi.k@hrontips.com    4S09VDB           52   \n",
      "71    Sankalp    Mishra  sankalp.mishra@hrontips.com    09VQY5A           53   \n",
      "72    Neelesh     Singh   neelesh.singh@hrontips.com    2YR3S9I           54   \n",
      "73    Sandeep    Gautam  sandeep.gautam@hrontips.com    NKQ65K6           55   \n",
      "74      Ankur    Rajput    ankur.rajput@hrontips.com    A94P8EU           56   \n",
      "\n",
      "   Job Title  \n",
      "65        47  \n",
      "66        48  \n",
      "67        49  \n",
      "68        50  \n",
      "69        51  \n",
      "70        52  \n",
      "71        53  \n",
      "72        54  \n",
      "73        55  \n",
      "74        56  \n"
     ]
    }
   ],
   "source": [
    "print(df.tail(10))# show last n entries"
   ]
  },
  {
   "cell_type": "code",
   "execution_count": 9,
   "id": "bf043d36-3662-49f4-be64-acfbd6bc50ce",
   "metadata": {},
   "outputs": [
    {
     "name": "stdout",
     "output_type": "stream",
     "text": [
      "  First Name Last Name        Email UniqueCode Company Name Job Title\n",
      "0  Test user       hjv          jhv     jhhbjh           hj        hj\n",
      "1       User      User  mvfne.sd.ds    AGG0I50            f         h\n",
      "2       User      User  mvfne.sd.ds    YK0U9D6            f         h\n",
      "3       User      User  mvfne.sd.ds    899FICB            f         h\n",
      "4       User      User  mvfne.sd.ds    65BZA8C            f         h\n"
     ]
    }
   ],
   "source": [
    "print(df.head())# By default shows 5 entries(BE IT HEAD OR TAIL IF N NOT PASSED)"
   ]
  },
  {
   "cell_type": "code",
   "execution_count": 10,
   "id": "7e76c7d6-449c-40d1-bca0-962870e1c4db",
   "metadata": {},
   "outputs": [
    {
     "name": "stdout",
     "output_type": "stream",
     "text": [
      "<class 'pandas.core.frame.DataFrame'>\n",
      "RangeIndex: 75 entries, 0 to 74\n",
      "Data columns (total 6 columns):\n",
      " #   Column        Non-Null Count  Dtype \n",
      "---  ------        --------------  ----- \n",
      " 0   First Name    75 non-null     object\n",
      " 1   Last Name     75 non-null     object\n",
      " 2   Email         74 non-null     object\n",
      " 3   UniqueCode    75 non-null     object\n",
      " 4   Company Name  75 non-null     object\n",
      " 5   Job Title     75 non-null     object\n",
      "dtypes: object(6)\n",
      "memory usage: 3.6+ KB\n"
     ]
    }
   ],
   "source": [
    "df.info()"
   ]
  },
  {
   "cell_type": "code",
   "execution_count": 11,
   "id": "50135759-fff6-47f0-935d-ff666105798b",
   "metadata": {},
   "outputs": [
    {
     "data": {
      "text/html": [
       "<div>\n",
       "<style scoped>\n",
       "    .dataframe tbody tr th:only-of-type {\n",
       "        vertical-align: middle;\n",
       "    }\n",
       "\n",
       "    .dataframe tbody tr th {\n",
       "        vertical-align: top;\n",
       "    }\n",
       "\n",
       "    .dataframe thead th {\n",
       "        text-align: right;\n",
       "    }\n",
       "</style>\n",
       "<table border=\"1\" class=\"dataframe\">\n",
       "  <thead>\n",
       "    <tr style=\"text-align: right;\">\n",
       "      <th></th>\n",
       "      <th>First Name</th>\n",
       "      <th>Last Name</th>\n",
       "      <th>Email</th>\n",
       "      <th>UniqueCode</th>\n",
       "      <th>Company Name</th>\n",
       "      <th>Job Title</th>\n",
       "    </tr>\n",
       "  </thead>\n",
       "  <tbody>\n",
       "    <tr>\n",
       "      <th>count</th>\n",
       "      <td>75</td>\n",
       "      <td>75</td>\n",
       "      <td>74</td>\n",
       "      <td>75</td>\n",
       "      <td>75</td>\n",
       "      <td>75</td>\n",
       "    </tr>\n",
       "    <tr>\n",
       "      <th>unique</th>\n",
       "      <td>12</td>\n",
       "      <td>13</td>\n",
       "      <td>13</td>\n",
       "      <td>75</td>\n",
       "      <td>62</td>\n",
       "      <td>63</td>\n",
       "    </tr>\n",
       "    <tr>\n",
       "      <th>top</th>\n",
       "      <td>Neelesh</td>\n",
       "      <td>Gautam</td>\n",
       "      <td>sandeep.gautam@hrontips.com</td>\n",
       "      <td>jhhbjh</td>\n",
       "      <td>f</td>\n",
       "      <td>h</td>\n",
       "    </tr>\n",
       "    <tr>\n",
       "      <th>freq</th>\n",
       "      <td>12</td>\n",
       "      <td>12</td>\n",
       "      <td>12</td>\n",
       "      <td>1</td>\n",
       "      <td>9</td>\n",
       "      <td>9</td>\n",
       "    </tr>\n",
       "  </tbody>\n",
       "</table>\n",
       "</div>"
      ],
      "text/plain": [
       "       First Name Last Name                        Email UniqueCode  \\\n",
       "count          75        75                           74         75   \n",
       "unique         12        13                           13         75   \n",
       "top       Neelesh    Gautam  sandeep.gautam@hrontips.com     jhhbjh   \n",
       "freq           12        12                           12          1   \n",
       "\n",
       "       Company Name Job Title  \n",
       "count            75        75  \n",
       "unique           62        63  \n",
       "top               f         h  \n",
       "freq              9         9  "
      ]
     },
     "execution_count": 11,
     "metadata": {},
     "output_type": "execute_result"
    }
   ],
   "source": [
    "df.describe()"
   ]
  },
  {
   "cell_type": "code",
   "execution_count": 12,
   "id": "28ed7637-5b7d-4806-8ea9-6b7740bd8eb2",
   "metadata": {},
   "outputs": [
    {
     "data": {
      "text/plain": [
       "First Name      0\n",
       "Last Name       0\n",
       "Email           1\n",
       "UniqueCode      0\n",
       "Company Name    0\n",
       "Job Title       0\n",
       "dtype: int64"
      ]
     },
     "execution_count": 12,
     "metadata": {},
     "output_type": "execute_result"
    }
   ],
   "source": [
    "df.isnull().sum()"
   ]
  }
 ],
 "metadata": {
  "kernelspec": {
   "display_name": "Python 3 (ipykernel)",
   "language": "python",
   "name": "python3"
  },
  "language_info": {
   "codemirror_mode": {
    "name": "ipython",
    "version": 3
   },
   "file_extension": ".py",
   "mimetype": "text/x-python",
   "name": "python",
   "nbconvert_exporter": "python",
   "pygments_lexer": "ipython3",
   "version": "3.11.3"
  }
 },
 "nbformat": 4,
 "nbformat_minor": 5
}
