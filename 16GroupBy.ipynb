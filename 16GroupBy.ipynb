{
 "cells": [
  {
   "cell_type": "code",
   "execution_count": 1,
   "id": "ac9b6aa4-1d05-4e07-8ab9-b42032807f15",
   "metadata": {},
   "outputs": [],
   "source": [
    "import pandas as pd"
   ]
  },
  {
   "cell_type": "code",
   "execution_count": 2,
   "id": "640aad9d-36be-48b2-91a1-0fd2eff6f3fe",
   "metadata": {},
   "outputs": [
    {
     "name": "stdout",
     "output_type": "stream",
     "text": [
      "       age         workclass  fnlwgt   education  education-num  \\\n",
      "0       39         State-gov   77516   Bachelors             13   \n",
      "1       50  Self-emp-not-inc   83311   Bachelors             13   \n",
      "2       38           Private  215646     HS-grad              9   \n",
      "3       53           Private  234721        11th              7   \n",
      "4       28           Private  338409   Bachelors             13   \n",
      "...    ...               ...     ...         ...            ...   \n",
      "32556   27           Private  257302  Assoc-acdm             12   \n",
      "32557   40           Private  154374     HS-grad              9   \n",
      "32558   58           Private  151910     HS-grad              9   \n",
      "32559   22           Private  201490     HS-grad              9   \n",
      "32560   52      Self-emp-inc  287927     HS-grad              9   \n",
      "\n",
      "           marital-status         occupation   relationship   race     sex  \\\n",
      "0           Never-married       Adm-clerical  Not-in-family  White    Male   \n",
      "1      Married-civ-spouse    Exec-managerial        Husband  White    Male   \n",
      "2                Divorced  Handlers-cleaners  Not-in-family  White    Male   \n",
      "3      Married-civ-spouse  Handlers-cleaners        Husband  Black    Male   \n",
      "4      Married-civ-spouse     Prof-specialty           Wife  Black  Female   \n",
      "...                   ...                ...            ...    ...     ...   \n",
      "32556  Married-civ-spouse       Tech-support           Wife  White  Female   \n",
      "32557  Married-civ-spouse  Machine-op-inspct        Husband  White    Male   \n",
      "32558             Widowed       Adm-clerical      Unmarried  White  Female   \n",
      "32559       Never-married       Adm-clerical      Own-child  White    Male   \n",
      "32560  Married-civ-spouse    Exec-managerial           Wife  White  Female   \n",
      "\n",
      "       capital-gain  capital-loss  hours-per-week native-country salary  \n",
      "0              2174             0              40  United-States  <=50K  \n",
      "1                 0             0              13  United-States  <=50K  \n",
      "2                 0             0              40  United-States  <=50K  \n",
      "3                 0             0              40  United-States  <=50K  \n",
      "4                 0             0              40           Cuba  <=50K  \n",
      "...             ...           ...             ...            ...    ...  \n",
      "32556             0             0              38  United-States  <=50K  \n",
      "32557             0             0              40  United-States   >50K  \n",
      "32558             0             0              40  United-States  <=50K  \n",
      "32559             0             0              20  United-States  <=50K  \n",
      "32560         15024             0              40  United-States   >50K  \n",
      "\n",
      "[32561 rows x 15 columns]\n"
     ]
    }
   ],
   "source": [
    "df=pd.read_csv(\"C:/Users/Riya/Downloads/archive (4)/adult.data.csv\")\n",
    "print(df)"
   ]
  },
  {
   "cell_type": "code",
   "execution_count": 3,
   "id": "70d196e1-6180-4c17-ad95-daf67af93b46",
   "metadata": {},
   "outputs": [
    {
     "name": "stdout",
     "output_type": "stream",
     "text": [
      "<class 'pandas.core.frame.DataFrame'>\n",
      "RangeIndex: 32561 entries, 0 to 32560\n",
      "Data columns (total 15 columns):\n",
      " #   Column          Non-Null Count  Dtype \n",
      "---  ------          --------------  ----- \n",
      " 0   age             32561 non-null  int64 \n",
      " 1   workclass       32561 non-null  object\n",
      " 2   fnlwgt          32561 non-null  int64 \n",
      " 3   education       32561 non-null  object\n",
      " 4   education-num   32561 non-null  int64 \n",
      " 5   marital-status  32561 non-null  object\n",
      " 6   occupation      32561 non-null  object\n",
      " 7   relationship    32561 non-null  object\n",
      " 8   race            32561 non-null  object\n",
      " 9   sex             32561 non-null  object\n",
      " 10  capital-gain    32561 non-null  int64 \n",
      " 11  capital-loss    32561 non-null  int64 \n",
      " 12  hours-per-week  32561 non-null  int64 \n",
      " 13  native-country  32561 non-null  object\n",
      " 14  salary          32561 non-null  object\n",
      "dtypes: int64(6), object(9)\n",
      "memory usage: 3.7+ MB\n"
     ]
    }
   ],
   "source": [
    "df.info()"
   ]
  },
  {
   "cell_type": "code",
   "execution_count": 4,
   "id": "62b5ef35-780e-4545-91fa-3e2cbaef22ad",
   "metadata": {},
   "outputs": [
    {
     "name": "stdout",
     "output_type": "stream",
     "text": [
      "       salary\n",
      "sex          \n",
      "Female   >50K\n",
      "Male     >50K\n"
     ]
    }
   ],
   "source": [
    "d=df.groupby(\"sex\").agg({\"salary\":\"max\"})\n",
    "print(d)"
   ]
  },
  {
   "cell_type": "code",
   "execution_count": 5,
   "id": "27e7a5e5-a3a4-41d4-aa00-cc4ad050bb19",
   "metadata": {},
   "outputs": [
    {
     "name": "stdout",
     "output_type": "stream",
     "text": [
      "                     hours-per-week  capital-gain  capital-loss\n",
      "education    sex                                               \n",
      "10th         Female       32.111864    174.901695     69.132203\n",
      "             Male         39.336991    510.771160     51.164577\n",
      "11th         Female       29.821759    128.108796     21.578704\n",
      "             Male         36.312248    265.675639     66.650067\n",
      "12th         Female       31.791667    174.729167     11.951389\n",
      "             Male         37.768166    338.577855     42.494810\n",
      "1st-4th      Female       31.978261     44.826087     34.826087\n",
      "             Male         40.622951    156.434426     53.418033\n",
      "5th-6th      Female       36.047619     53.833333     53.190476\n",
      "             Male         39.859438    217.240964     73.333333\n",
      "7th-8th      Female       36.200000     94.318750     54.775000\n",
      "             Male         40.409465    279.905350     69.255144\n",
      "9th          Female       33.916667    780.937500     16.277778\n",
      "             Male         39.651351    171.294595     33.948649\n",
      "Assoc-acdm   Female       37.358670    715.724466     68.472684\n",
      "             Male         42.554180    591.309598    109.676471\n",
      "Assoc-voc    Female       37.830000    455.078000     57.258000\n",
      "             Male         43.753968    862.428571     81.539683\n",
      "Bachelors    Female       39.329216   1051.970970     75.046943\n",
      "             Male         44.037473   2061.521146    137.115899\n",
      "Doctorate    Female       47.302326   3346.779070    309.511628\n",
      "             Male         46.886850   5144.486239    250.571865\n",
      "HS-grad      Female       36.577286    385.584661     53.585251\n",
      "             Male         42.481367    667.957531     78.514414\n",
      "Masters      Female       41.113806   1508.660448    140.595149\n",
      "             Male         45.065712   3038.462511    178.516428\n",
      "Preschool    Female       31.875000    281.750000      0.000000\n",
      "             Male         38.828571   1180.285714     96.885714\n",
      "Prof-school  Female       44.793478   3257.413043    157.413043\n",
      "             Male         47.925620  11774.838843    245.229339\n",
      "Some-college Female       34.574840    326.562010     47.529223\n",
      "             Male         41.528428    769.162542     86.719955\n"
     ]
    }
   ],
   "source": [
    "d=df.groupby([\"education\",\"sex\"]).agg({\"hours-per-week\":\"mean\",\"capital-gain\":\"mean\",\"capital-loss\":\"mean\"})\n",
    "print(d)"
   ]
  },
  {
   "cell_type": "code",
   "execution_count": 6,
   "id": "2ff3525e-9590-4635-aaeb-8fcf7009df3f",
   "metadata": {},
   "outputs": [
    {
     "name": "stdout",
     "output_type": "stream",
     "text": [
      "<pandas.core.groupby.generic.DataFrameGroupBy object at 0x00000271A55F4050>\n"
     ]
    }
   ],
   "source": [
    "print(df.groupby(\"relationship\"))"
   ]
  },
  {
   "cell_type": "code",
   "execution_count": 12,
   "id": "9953f7e9-6a1a-420e-9783-ff41dc5eb11a",
   "metadata": {},
   "outputs": [
    {
     "name": "stdout",
     "output_type": "stream",
     "text": [
      "('Husband', 1        50\n",
      "3        53\n",
      "7        52\n",
      "9        42\n",
      "10       37\n",
      "         ..\n",
      "32550    43\n",
      "32551    32\n",
      "32552    43\n",
      "32554    53\n",
      "32557    40\n",
      "Name: age, Length: 13193, dtype: int64)\n",
      "('Not-in-family', 0        39\n",
      "2        38\n",
      "6        49\n",
      "8        31\n",
      "13       32\n",
      "         ..\n",
      "32544    31\n",
      "32546    37\n",
      "32548    65\n",
      "32553    32\n",
      "32555    22\n",
      "Name: age, Length: 8305, dtype: int64)\n",
      "('Other-relative', 74       79\n",
      "110      24\n",
      "144      70\n",
      "152      33\n",
      "159      42\n",
      "         ..\n",
      "32401    52\n",
      "32477    49\n",
      "32499    25\n",
      "32524    26\n",
      "32549    43\n",
      "Name: age, Length: 981, dtype: int64)\n",
      "('Own-child', 12       23\n",
      "16       25\n",
      "26       19\n",
      "31       20\n",
      "32       45\n",
      "         ..\n",
      "32512    20\n",
      "32527    22\n",
      "32535    22\n",
      "32540    45\n",
      "32559    22\n",
      "Name: age, Length: 5068, dtype: int64)\n",
      "('Unmarried', 17       32\n",
      "19       43\n",
      "21       54\n",
      "24       59\n",
      "35       48\n",
      "         ..\n",
      "32529    29\n",
      "32534    37\n",
      "32538    38\n",
      "32543    45\n",
      "32558    58\n",
      "Name: age, Length: 3446, dtype: int64)\n",
      "('Wife', 4        28\n",
      "5        37\n",
      "37       19\n",
      "50       25\n",
      "52       47\n",
      "         ..\n",
      "32528    31\n",
      "32530    35\n",
      "32545    39\n",
      "32556    27\n",
      "32560    52\n",
      "Name: age, Length: 1568, dtype: int64)\n"
     ]
    }
   ],
   "source": [
    "\"\"\"for item,data in df.groupby(\"relationship\"):\n",
    "    print(\"item->\",item)\n",
    "    print(\"data->\",data)\"\"\"\n",
    "g=df.groupby(\"relationship\")\n",
    "for i in g[\"age\"]:\n",
    "    print(i)"
   ]
  },
  {
   "cell_type": "code",
   "execution_count": 13,
   "id": "9116076d-828b-426a-b29a-f61dd5ba95da",
   "metadata": {},
   "outputs": [
    {
     "data": {
      "text/plain": [
       "relationship\n",
       "Husband           578099\n",
       "Not-in-family     318464\n",
       "Other-relative     32534\n",
       "Own-child         125828\n",
       "Unmarried         138853\n",
       "Wife               62479\n",
       "Name: age, dtype: int64"
      ]
     },
     "execution_count": 13,
     "metadata": {},
     "output_type": "execute_result"
    }
   ],
   "source": [
    "g[\"age\"].sum()"
   ]
  },
  {
   "cell_type": "code",
   "execution_count": 14,
   "id": "35f5478a-8f7c-4489-8b9a-b3be71b04dc0",
   "metadata": {},
   "outputs": [
    {
     "data": {
      "text/plain": [
       "relationship\n",
       "Husband           578099\n",
       "Not-in-family     318464\n",
       "Other-relative     32534\n",
       "Own-child         125828\n",
       "Unmarried         138853\n",
       "Wife               62479\n",
       "Name: age, dtype: int64"
      ]
     },
     "execution_count": 14,
     "metadata": {},
     "output_type": "execute_result"
    }
   ],
   "source": [
    "df.groupby(\"relationship\").age.sum()"
   ]
  },
  {
   "cell_type": "code",
   "execution_count": 16,
   "id": "478e56af-cc4b-4e95-a967-118346023471",
   "metadata": {},
   "outputs": [
    {
     "data": {
      "text/plain": [
       "relationship\n",
       "Husband           578099\n",
       "Not-in-family     318464\n",
       "Other-relative     32534\n",
       "Own-child         125828\n",
       "Unmarried         138853\n",
       "Wife               62479\n",
       "Name: age, dtype: int64"
      ]
     },
     "execution_count": 16,
     "metadata": {},
     "output_type": "execute_result"
    }
   ],
   "source": [
    "df.groupby(\"relationship\")[\"age\"].sum()"
   ]
  },
  {
   "cell_type": "code",
   "execution_count": null,
   "id": "e1735294-752d-4a44-a0fe-9bdc877e6bc6",
   "metadata": {},
   "outputs": [],
   "source": []
  }
 ],
 "metadata": {
  "kernelspec": {
   "display_name": "Python 3 (ipykernel)",
   "language": "python",
   "name": "python3"
  },
  "language_info": {
   "codemirror_mode": {
    "name": "ipython",
    "version": 3
   },
   "file_extension": ".py",
   "mimetype": "text/x-python",
   "name": "python",
   "nbconvert_exporter": "python",
   "pygments_lexer": "ipython3",
   "version": "3.11.3"
  }
 },
 "nbformat": 4,
 "nbformat_minor": 5
}
