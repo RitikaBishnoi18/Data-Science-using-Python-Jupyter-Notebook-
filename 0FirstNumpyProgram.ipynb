{
 "cells": [
  {
   "cell_type": "code",
   "execution_count": 1,
   "id": "6d862914-a35f-4fd8-b05a-d268a62ff993",
   "metadata": {},
   "outputs": [],
   "source": [
    "import numpy as np"
   ]
  },
  {
   "cell_type": "code",
   "execution_count": 9,
   "id": "1b420416-485a-4a9d-a088-8d9f43d0eac7",
   "metadata": {},
   "outputs": [
    {
     "name": "stdout",
     "output_type": "stream",
     "text": [
      "[5 7 9]\n",
      "[ 4 10 18]\n"
     ]
    }
   ],
   "source": [
    "a=np.array([1,2,3])\n",
    "b=np.array([4,5,6])\n",
    "print(a+b)\n",
    "print(a*b)"
   ]
  },
  {
   "cell_type": "code",
   "execution_count": 10,
   "id": "bef7e205-8770-440b-8cf2-b3fe532f9e39",
   "metadata": {},
   "outputs": [
    {
     "name": "stdout",
     "output_type": "stream",
     "text": [
      "[2 4 6]\n",
      "[3 4 5]\n"
     ]
    }
   ],
   "source": [
    "c=np.array([1,2,3])\n",
    "d=np.array([2])\n",
    "print(c*d)\n",
    "print(c+d)"
   ]
  },
  {
   "cell_type": "code",
   "execution_count": 11,
   "id": "ac9c849f-146b-4b2e-83b5-1eb9243c4cf4",
   "metadata": {},
   "outputs": [
    {
     "name": "stdout",
     "output_type": "stream",
     "text": [
      "['1' '2' 'ok']\n"
     ]
    }
   ],
   "source": [
    "e=np.array([1,2,\"ok\"])\n",
    "print(e)"
   ]
  },
  {
   "cell_type": "code",
   "execution_count": 12,
   "id": "b0cf60d9-5879-42be-a4a8-ae67f14ae3a7",
   "metadata": {},
   "outputs": [
    {
     "name": "stdout",
     "output_type": "stream",
     "text": [
      "[1. 2. 4.]\n"
     ]
    }
   ],
   "source": [
    "e=np.array([1,2,4.0])\n",
    "print(e)"
   ]
  },
  {
   "cell_type": "code",
   "execution_count": 1,
   "id": "d1562750-61dd-4565-aa32-9147076f393f",
   "metadata": {},
   "outputs": [
    {
     "name": "stdout",
     "output_type": "stream",
     "text": [
      "Trying ctrl enter to run cell\n"
     ]
    }
   ],
   "source": [
    "print(\"Trying ctrl enter to run cell\")"
   ]
  },
  {
   "cell_type": "code",
   "execution_count": 4,
   "id": "2b99ba05-983a-407d-8a66-459a17a647f6",
   "metadata": {},
   "outputs": [
    {
     "name": "stdout",
     "output_type": "stream",
     "text": [
      "Trying shift enter to run cell and add new cell\n"
     ]
    }
   ],
   "source": [
    "print(\"Trying shift enter to run cell and add new cell\")"
   ]
  },
  {
   "cell_type": "code",
   "execution_count": null,
   "id": "6d0ce8e7-f90c-4c8f-976b-e66e3cd3a870",
   "metadata": {},
   "outputs": [],
   "source": []
  }
 ],
 "metadata": {
  "kernelspec": {
   "display_name": "Python 3 (ipykernel)",
   "language": "python",
   "name": "python3"
  },
  "language_info": {
   "codemirror_mode": {
    "name": "ipython",
    "version": 3
   },
   "file_extension": ".py",
   "mimetype": "text/x-python",
   "name": "python",
   "nbconvert_exporter": "python",
   "pygments_lexer": "ipython3",
   "version": "3.11.3"
  }
 },
 "nbformat": 4,
 "nbformat_minor": 5
}
