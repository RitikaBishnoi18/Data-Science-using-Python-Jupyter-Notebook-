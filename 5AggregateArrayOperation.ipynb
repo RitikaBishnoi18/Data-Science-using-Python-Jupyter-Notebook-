{
 "cells": [
  {
   "cell_type": "code",
   "execution_count": 3,
   "id": "cda286be-3ddc-4b75-b882-c92d4531ca46",
   "metadata": {},
   "outputs": [],
   "source": [
    "import numpy as np"
   ]
  },
  {
   "cell_type": "code",
   "execution_count": 15,
   "id": "895d9a2a-9354-4bd6-86cb-4beb384e3f8a",
   "metadata": {},
   "outputs": [
    {
     "name": "stdout",
     "output_type": "stream",
     "text": [
      "8\n",
      "1\n",
      "6\n",
      "28\n",
      "\n",
      "8\n",
      "1\n",
      "6\n",
      "28\n"
     ]
    }
   ],
   "source": [
    "a=np.array([1,2,4,6,7,8])\n",
    "b=np.array([2,3,4,4,5,8])\n",
    "c=np.array([[1,2],[4,6],[7,8]])\n",
    "d=np.array([[2,3],[4,4],[5,8]])\n",
    "\n",
    "print(np.max(a))\n",
    "print(np.min(a))\n",
    "print(np.size(a))\n",
    "print(np.sum(a))\n",
    "print()\n",
    "print(np.max(c))\n",
    "print(np.min(c))\n",
    "print(np.size(c))\n",
    "print(np.sum(c))"
   ]
  },
  {
   "cell_type": "code",
   "execution_count": 16,
   "id": "eb605bca-5b0e-49e5-b471-425f9c1804a9",
   "metadata": {},
   "outputs": [
    {
     "name": "stdout",
     "output_type": "stream",
     "text": [
      "[ 1  3  7 13 20 28]\n",
      "[   1    2    8   48  336 2688]\n",
      "\n",
      "[ 1  3  7 13 20 28]\n",
      "[   1    2    8   48  336 2688]\n"
     ]
    }
   ],
   "source": [
    "print(np.cumsum(a))\n",
    "print(np.cumprod(a))\n",
    "print()\n",
    "print(np.cumsum(c))\n",
    "print(np.cumprod(c))"
   ]
  },
  {
   "cell_type": "code",
   "execution_count": 12,
   "id": "515a922e-be19-4bcd-9558-58fea5acf1e3",
   "metadata": {},
   "outputs": [
    {
     "name": "stdout",
     "output_type": "stream",
     "text": [
      "82\n",
      "[[ 1  2  4  6  7  8]\n",
      " [ 3  5  8 10 12 16]]\n",
      "[[ 1  2  4  6  7  8]\n",
      " [ 2  6 16 24 35 64]]\n"
     ]
    }
   ],
   "source": [
    "print(np.sum(np.cumsum([a,b],axis=0)))\n",
    "print(np.cumsum([a,b],axis=0))\n",
    "print(np.cumprod([a,b],axis=0))"
   ]
  },
  {
   "cell_type": "code",
   "execution_count": null,
   "id": "f2f070eb-7134-45fa-9a63-09cd08de8ec5",
   "metadata": {},
   "outputs": [],
   "source": []
  }
 ],
 "metadata": {
  "kernelspec": {
   "display_name": "Python 3 (ipykernel)",
   "language": "python",
   "name": "python3"
  },
  "language_info": {
   "codemirror_mode": {
    "name": "ipython",
    "version": 3
   },
   "file_extension": ".py",
   "mimetype": "text/x-python",
   "name": "python",
   "nbconvert_exporter": "python",
   "pygments_lexer": "ipython3",
   "version": "3.11.3"
  }
 },
 "nbformat": 4,
 "nbformat_minor": 5
}
