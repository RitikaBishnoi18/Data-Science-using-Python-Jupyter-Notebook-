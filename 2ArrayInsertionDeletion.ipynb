{
 "cells": [
  {
   "cell_type": "code",
   "execution_count": 2,
   "id": "59afaac2-ac89-48cf-831d-e58de43a842f",
   "metadata": {},
   "outputs": [],
   "source": [
    "import numpy as np"
   ]
  },
  {
   "cell_type": "code",
   "execution_count": 10,
   "id": "e23dcaa4-5dc6-4fe1-9b17-00fed05c606b",
   "metadata": {},
   "outputs": [
    {
     "name": "stdout",
     "output_type": "stream",
     "text": [
      "[1 2 3 4 7]\n",
      "[1 2 3 4]\n",
      "[1 2 3 4 7 8 9]\n",
      "[1 2 3 4]\n",
      "[1 7 2 3 4]\n",
      "[1 7 8 9 2 3 4]\n",
      "[1 2 3 4]\n"
     ]
    }
   ],
   "source": [
    "a=np.array([1,2,3,4])\n",
    "\n",
    "print(np.append(a,7))# add at end \n",
    "print(a)\n",
    "\n",
    "print(np.append(a,[7,8,9]))# add all and end sequentially as given\n",
    "print(a)\n",
    "\n",
    "print(np.insert(a,1,7))#insert at position\n",
    "print(np.insert(a,1,[7,8,9]))#insert at position sequentially as given\n",
    "#print(np.insert(a,[1,0],[7,8,9]))\n",
    "print(a)"
   ]
  },
  {
   "cell_type": "code",
   "execution_count": 24,
   "id": "c25cbcdd-2830-41d0-af61-3acaa9e74a88",
   "metadata": {},
   "outputs": [
    {
     "name": "stdout",
     "output_type": "stream",
     "text": [
      "[1 2 3 4 7 8 9]\n",
      "[1 2 3 4 7]\n",
      "[[1 2]\n",
      " [3 4]]\n",
      "[1 7 8 2 3 4]\n",
      "[[1 2]\n",
      " [7 8]\n",
      " [3 4]]\n",
      "\n",
      "[1 7 2 3 7 4]\n",
      "[1 7 2 3 8 4]\n",
      "[[1 7 2]\n",
      " [3 8 4]]\n",
      "[[1 2]\n",
      " [7 8]\n",
      " [3 4]\n",
      " [7 8]]\n",
      "[[1 7 2 8]\n",
      " [3 7 4 8]]\n"
     ]
    }
   ],
   "source": [
    "b=np.array([[1,2],[3,4]])\n",
    "print(np.append(b,[7,8,9]))# add all and end sequentially as given but make as 1D array\n",
    "print(np.append(b,[7]))# add at end but make as 1D array\n",
    "#print(np.append(b,[7,8],axis=0))\n",
    "#print(np.append(b,[7,8],axis=1))\n",
    "#print(np.append(b,[7],axis=0))\n",
    "print(b)\n",
    "print(np.insert(b,1,[7,8]))# add all at position sequentially as given but make as 1D array\n",
    "print(np.insert(b,1,[7,8],axis=0))# add at given position as new row but keep it as 2D array\n",
    "print()\n",
    "print(np.insert(b,[1,3],[7]))\n",
    "print(np.insert(b,[1,3],[7,8]))#add at multiiple positions but by matching and as 1D array\n",
    "print(np.insert(b,1,[7,8],axis=1))#add at given position as new column for each item and keep it as 2D Array\n",
    "print(np.insert(b,[1,2],[7,8],axis=0))# add at given positions as new row but keep it as 2D array\n",
    "print(np.insert(b,[1,2],[7,8],axis=1))"
   ]
  },
  {
   "cell_type": "code",
   "execution_count": 25,
   "id": "11592297-5bb8-4c45-8294-88b14b6c410f",
   "metadata": {},
   "outputs": [],
   "source": [
    "#print(np.insert(b,1,[[7,8],[9,10]]))\n",
    "#print(np.insert(b,1,[[7,8],[9,10]],axis=0))\n",
    "#print(np.insert(b,1,[[7,8],[9,10]],axis=1))\n",
    "\n"
   ]
  },
  {
   "cell_type": "code",
   "execution_count": 27,
   "id": "d288a399-9243-469c-81c1-ed714aa17f5e",
   "metadata": {},
   "outputs": [
    {
     "name": "stdout",
     "output_type": "stream",
     "text": [
      "[20 30 40 50 60]\n",
      "[[20 30 40]]\n",
      "[[20 40]\n",
      " [50 70]]\n"
     ]
    }
   ],
   "source": [
    "f=np.array([[20,30,40],[50,60,70]])\n",
    "print(np.delete(f,5))\n",
    "print(np.delete(f,1,axis=0))\n",
    "print(np.delete(f,1,axis=1))"
   ]
  }
 ],
 "metadata": {
  "kernelspec": {
   "display_name": "Python 3 (ipykernel)",
   "language": "python",
   "name": "python3"
  },
  "language_info": {
   "codemirror_mode": {
    "name": "ipython",
    "version": 3
   },
   "file_extension": ".py",
   "mimetype": "text/x-python",
   "name": "python",
   "nbconvert_exporter": "python",
   "pygments_lexer": "ipython3",
   "version": "3.11.3"
  }
 },
 "nbformat": 4,
 "nbformat_minor": 5
}
