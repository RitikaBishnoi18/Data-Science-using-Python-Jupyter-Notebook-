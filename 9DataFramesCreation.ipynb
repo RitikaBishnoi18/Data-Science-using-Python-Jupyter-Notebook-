{
 "cells": [
  {
   "cell_type": "raw",
   "id": "8f7b69c5-e18c-4842-9417-96d54a7d0190",
   "metadata": {},
   "source": [
    "Pandas"
   ]
  },
  {
   "cell_type": "raw",
   "id": "db0cf138-8ea2-41c3-81d7-f4e562d4ba1f",
   "metadata": {},
   "source": [
    "Create DataFrame Using Dictionery"
   ]
  },
  {
   "cell_type": "code",
   "execution_count": 1,
   "id": "76364bae-4d82-4b8f-9b2d-99f898854ce9",
   "metadata": {},
   "outputs": [
    {
     "name": "stdout",
     "output_type": "stream",
     "text": [
      "     Name  Age   Occupation\n",
      "0  Ritika   23           BA\n",
      "1    Riya   27     IT Asset\n",
      "2  Kartik   28  Web Analyst\n",
      "3   Reena   50   House Wife\n",
      "4  Naresh   52      Lekhpal\n"
     ]
    }
   ],
   "source": [
    "import pandas as pd\n",
    "d={\n",
    "    \"Name\":[\"Ritika\",\"Riya\",\"Kartik\",\"Reena\",\"Naresh\"],\n",
    "    \"Age\":[23,27,28,50,52],\n",
    "    \"Occupation\":[\"BA\",\"IT Asset\",\"Web Analyst\",\"House Wife\",\"Lekhpal\"]\n",
    "}\n",
    "df=pd.DataFrame(d)\n",
    "print(df)"
   ]
  },
  {
   "cell_type": "code",
   "execution_count": 8,
   "id": "8ea50882-78a4-49c3-aa43-c6a8a82085a3",
   "metadata": {},
   "outputs": [
    {
     "name": "stdout",
     "output_type": "stream",
     "text": [
      "     Name  Age   Occupation\n",
      "0  Ritika   23           BA\n",
      "1    Riya   27     IT Asset\n",
      "2  Kartik   28  Web Analyst\n",
      "3   Reena   50   House Wife\n",
      "4  Naresh   52      Lekhpal\n"
     ]
    }
   ],
   "source": [
    "d=[\n",
    "    [\"Ritika\",23,\"BA\"],\n",
    "    [\"Riya\",27,\"IT Asset\"],\n",
    "    [\"Kartik\",28,\"Web Analyst\"],\n",
    "    [\"Reena\",50,\"House Wife\"],\n",
    "    [\"Naresh\",52,\"Lekhpal\"]\n",
    "]\n",
    "df=pd.DataFrame(d, columns=[\"Name\", \"Age\", \"Occupation\"])\n",
    "print(df)"
   ]
  },
  {
   "cell_type": "code",
   "execution_count": 11,
   "id": "9340a39f-41d5-4274-a5d9-89c246e8e8a0",
   "metadata": {},
   "outputs": [
    {
     "name": "stdout",
     "output_type": "stream",
     "text": [
      "     Name\n",
      "0  Ritika\n",
      "1    Riya\n",
      "2  Kartik\n",
      "3   Reena\n",
      "4  Naresh\n"
     ]
    }
   ],
   "source": [
    "d=pd.Series([\"Ritika\",\"Riya\",\"Kartik\",\"Reena\",\"Naresh\"],name=\"Name\")\n",
    "df=pd.DataFrame(d)\n",
    "print(df)"
   ]
  },
  {
   "cell_type": "code",
   "execution_count": 12,
   "id": "21ebc914-645e-458c-8dd5-10d53bb48056",
   "metadata": {},
   "outputs": [
    {
     "name": "stdout",
     "output_type": "stream",
     "text": [
      "     Name Age   Occupation\n",
      "0  Ritika  23           BA\n",
      "1    Riya  27     IT Asset\n",
      "2  Kartik  28  Web Analyst\n",
      "3   Reena  50   House Wife\n",
      "4  Naresh  52      Lekhpal\n"
     ]
    }
   ],
   "source": [
    "import numpy as np\n",
    "d=np.array([[\"Ritika\",23,\"BA\"],[\"Riya\",27,\"IT Asset\"], [\"Kartik\",28,\"Web Analyst\"], [\"Reena\",50,\"House Wife\"],[\"Naresh\",52,\"Lekhpal\"]])\n",
    "df=pd.DataFrame(d,columns=[\"Name\", \"Age\", \"Occupation\"])\n",
    "print(df)"
   ]
  },
  {
   "cell_type": "code",
   "execution_count": 15,
   "id": "48f611f1-5197-4254-81f4-3be609347aac",
   "metadata": {},
   "outputs": [
    {
     "name": "stdout",
     "output_type": "stream",
     "text": [
      "   First Name Last Name                        Email UniqueCode Company Name  \\\n",
      "0   Test user       hjv                          jhv     jhhbjh           hj   \n",
      "1        User      User                  mvfne.sd.ds    AGG0I50            f   \n",
      "2        User      User                  mvfne.sd.ds    YK0U9D6            f   \n",
      "3        User      User                  mvfne.sd.ds    899FICB            f   \n",
      "4        User      User                  mvfne.sd.ds    65BZA8C            f   \n",
      "..        ...       ...                          ...        ...          ...   \n",
      "70     Khushi         K        khushi.k@hrontips.com    4S09VDB           52   \n",
      "71    Sankalp    Mishra  sankalp.mishra@hrontips.com    09VQY5A           53   \n",
      "72    Neelesh     Singh   neelesh.singh@hrontips.com    2YR3S9I           54   \n",
      "73    Sandeep    Gautam  sandeep.gautam@hrontips.com    NKQ65K6           55   \n",
      "74      Ankur    Rajput    ankur.rajput@hrontips.com    A94P8EU           56   \n",
      "\n",
      "   Job Title  \n",
      "0         hj  \n",
      "1          h  \n",
      "2          h  \n",
      "3          h  \n",
      "4          h  \n",
      "..       ...  \n",
      "70        52  \n",
      "71        53  \n",
      "72        54  \n",
      "73        55  \n",
      "74        56  \n",
      "\n",
      "[75 rows x 6 columns]\n"
     ]
    }
   ],
   "source": [
    "df=pd.read_excel(\"C:/Users/Riya/Downloads/User Data.xlsx\")\n",
    "print(df)"
   ]
  },
  {
   "cell_type": "code",
   "execution_count": 16,
   "id": "499a41e1-c407-4b2e-a9cf-c51fde1e291c",
   "metadata": {},
   "outputs": [
    {
     "name": "stdout",
     "output_type": "stream",
     "text": [
      "       EmpID  Age AgeGroup Attrition     BusinessTravel  DailyRate  \\\n",
      "0      RM297   18    18-25       Yes      Travel_Rarely        230   \n",
      "1      RM302   18    18-25        No      Travel_Rarely        812   \n",
      "2      RM458   18    18-25       Yes  Travel_Frequently       1306   \n",
      "3      RM728   18    18-25        No         Non-Travel        287   \n",
      "4      RM829   18    18-25       Yes         Non-Travel        247   \n",
      "...      ...  ...      ...       ...                ...        ...   \n",
      "1475   RM412   60      55+        No      Travel_Rarely        422   \n",
      "1476   RM428   60      55+        No  Travel_Frequently       1499   \n",
      "1477   RM537   60      55+        No      Travel_Rarely       1179   \n",
      "1478   RM880   60      55+        No      Travel_Rarely        696   \n",
      "1479  RM1210   60      55+        No      Travel_Rarely        370   \n",
      "\n",
      "                  Department  DistanceFromHome  Education EducationField  ...  \\\n",
      "0     Research & Development                 3          3  Life Sciences  ...   \n",
      "1                      Sales                10          3        Medical  ...   \n",
      "2                      Sales                 5          3      Marketing  ...   \n",
      "3     Research & Development                 5          2  Life Sciences  ...   \n",
      "4     Research & Development                 8          1        Medical  ...   \n",
      "...                      ...               ...        ...            ...  ...   \n",
      "1475  Research & Development                 7          3  Life Sciences  ...   \n",
      "1476                   Sales                28          3      Marketing  ...   \n",
      "1477                   Sales                16          4      Marketing  ...   \n",
      "1478                   Sales                 7          4      Marketing  ...   \n",
      "1479  Research & Development                 1          4        Medical  ...   \n",
      "\n",
      "      RelationshipSatisfaction  StandardHours  StockOptionLevel  \\\n",
      "0                            3             80                 0   \n",
      "1                            1             80                 0   \n",
      "2                            4             80                 0   \n",
      "3                            4             80                 0   \n",
      "4                            4             80                 0   \n",
      "...                        ...            ...               ...   \n",
      "1475                         4             80                 0   \n",
      "1476                         4             80                 0   \n",
      "1477                         4             80                 0   \n",
      "1478                         2             80                 1   \n",
      "1479                         3             80                 1   \n",
      "\n",
      "     TotalWorkingYears  TrainingTimesLastYear  WorkLifeBalance  \\\n",
      "0                    0                      2                3   \n",
      "1                    0                      2                3   \n",
      "2                    0                      3                3   \n",
      "3                    0                      2                3   \n",
      "4                    0                      0                3   \n",
      "...                ...                    ...              ...   \n",
      "1475                33                      5                1   \n",
      "1476                22                      5                4   \n",
      "1477                10                      1                3   \n",
      "1478                12                      3                3   \n",
      "1479                19                      2                4   \n",
      "\n",
      "      YearsAtCompany YearsInCurrentRole  YearsSinceLastPromotion  \\\n",
      "0                  0                  0                        0   \n",
      "1                  0                  0                        0   \n",
      "2                  0                  0                        0   \n",
      "3                  0                  0                        0   \n",
      "4                  0                  0                        0   \n",
      "...              ...                ...                      ...   \n",
      "1475              29                  8                       11   \n",
      "1476              18                 13                       13   \n",
      "1477               2                  2                        2   \n",
      "1478              11                  7                        1   \n",
      "1479               1                  0                        0   \n",
      "\n",
      "     YearsWithCurrManager  \n",
      "0                     0.0  \n",
      "1                     0.0  \n",
      "2                     0.0  \n",
      "3                     0.0  \n",
      "4                     0.0  \n",
      "...                   ...  \n",
      "1475                 10.0  \n",
      "1476                 11.0  \n",
      "1477                  2.0  \n",
      "1478                  9.0  \n",
      "1479                  0.0  \n",
      "\n",
      "[1480 rows x 38 columns]\n"
     ]
    }
   ],
   "source": [
    "df=pd.read_csv(\"C:/Users/Riya/Downloads/HR_Analytics.csv\")\n",
    "print(df)"
   ]
  },
  {
   "cell_type": "code",
   "execution_count": null,
   "id": "25a75eff-c111-428c-9ef5-017d027169dc",
   "metadata": {},
   "outputs": [],
   "source": []
  }
 ],
 "metadata": {
  "kernelspec": {
   "display_name": "Python 3 (ipykernel)",
   "language": "python",
   "name": "python3"
  },
  "language_info": {
   "codemirror_mode": {
    "name": "ipython",
    "version": 3
   },
   "file_extension": ".py",
   "mimetype": "text/x-python",
   "name": "python",
   "nbconvert_exporter": "python",
   "pygments_lexer": "ipython3",
   "version": "3.11.3"
  }
 },
 "nbformat": 4,
 "nbformat_minor": 5
}
