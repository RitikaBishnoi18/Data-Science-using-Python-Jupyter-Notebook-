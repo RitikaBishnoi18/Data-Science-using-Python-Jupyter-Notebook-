{
 "cells": [
  {
   "cell_type": "code",
   "execution_count": 1,
   "id": "a7402818-b576-4a80-a23c-4ec007582ba9",
   "metadata": {},
   "outputs": [],
   "source": [
    "import pandas as pd"
   ]
  },
  {
   "cell_type": "code",
   "execution_count": 2,
   "id": "a641f8e7-f1dd-4f5e-a6c3-4fd8c567958a",
   "metadata": {},
   "outputs": [
    {
     "name": "stdout",
     "output_type": "stream",
     "text": [
      "  Emp ID  Age  Salary\n",
      "0   EP01   45   40000\n",
      "1   EP02   35   50000\n",
      "2   EP03   46   23455\n",
      "3   EP04   25   67900\n",
      "4   EP05   31   35782\n",
      "5   EP06   38   45666\n",
      "\n",
      "  Emp ID Department\n",
      "0   EP01         IT\n",
      "1   EP02      Sales\n",
      "2   EP03         HR\n",
      "3   EP04         IT\n",
      "4   EP05      Sales\n",
      "5   EP06         HR\n"
     ]
    }
   ],
   "source": [
    "d1={\"Emp ID\":[\"EP01\",\"EP02\",\"EP03\",\"EP04\",\"EP05\",\"EP06\"],\n",
    "  \"Age\":[45,35,46,25,31,38],\n",
    "  \"Salary\":[40000,50000,23455,67900,35782,45666]}\n",
    "d2={\"Emp ID\":[\"EP01\",\"EP02\",\"EP03\",\"EP04\",\"EP05\",\"EP06\"],\n",
    "  \"Department\":[\"IT\",\"Sales\",\"HR\",\"IT\",\"Sales\",\"HR\"]}\n",
    "\n",
    "df1=pd.DataFrame(d1)\n",
    "df2=pd.DataFrame(d2)\n",
    "print(df1)\n",
    "print()\n",
    "print(df2)"
   ]
  },
  {
   "cell_type": "code",
   "execution_count": 3,
   "id": "9d259825-1ff7-4d98-b10d-2acc6c286772",
   "metadata": {},
   "outputs": [
    {
     "name": "stdout",
     "output_type": "stream",
     "text": [
      "  Emp ID  Age  Salary Department\n",
      "0   EP01   45   40000         IT\n",
      "1   EP02   35   50000      Sales\n",
      "2   EP03   46   23455         HR\n",
      "3   EP04   25   67900         IT\n",
      "4   EP05   31   35782      Sales\n",
      "5   EP06   38   45666         HR\n"
     ]
    }
   ],
   "source": [
    "print(pd.merge(df1,df2,on=\"Emp ID\",how=\"inner\"))"
   ]
  },
  {
   "cell_type": "code",
   "execution_count": 8,
   "id": "75011087-a6d6-4b3d-999f-a08f57ee32f1",
   "metadata": {},
   "outputs": [
    {
     "name": "stdout",
     "output_type": "stream",
     "text": [
      "  Emp ID Department  Age  Salary\n",
      "0   EP01         IT   45   40000\n",
      "1   EP02      Sales   35   50000\n",
      "2   EP03         HR   46   23455\n",
      "3   EP04         IT   25   67900\n",
      "4   EP05      Sales   31   35782\n",
      "5   EP06         HR   38   45666\n"
     ]
    }
   ],
   "source": [
    "print(pd.merge(right=df1,left=df2,on=\"Emp ID\",how=\"right\"))"
   ]
  },
  {
   "cell_type": "code",
   "execution_count": 16,
   "id": "250d6ed8-5b32-4672-81b8-9d152d56595b",
   "metadata": {},
   "outputs": [],
   "source": [
    "d1={\"Emp ID\":[\"EP01\",\"EP02\",\"EP03\",\"EP04\",\"EP05\",\"EP06\"],\n",
    "  \"Age\":[45,35,46,25,31,38],\n",
    "  \"Salary\":[40000,50000,23455,67900,35782,45666]}\n",
    "d2={\"Emp ID\":[\"EP07\",\"EP02\",\"EP03\",\"EP04\",\"EP05\",\"EP08\"],\n",
    "  \"Department\":[\"IT\",\"Sales\",\"HR\",\"IT\",\"Sales\",\"HR\"]}\n",
    "\n",
    "df1=pd.DataFrame(d1)\n",
    "df2=pd.DataFrame(d2)"
   ]
  },
  {
   "cell_type": "code",
   "execution_count": 10,
   "id": "938f2e47-0eda-4556-8235-c494864630ef",
   "metadata": {},
   "outputs": [
    {
     "name": "stdout",
     "output_type": "stream",
     "text": [
      "  Emp ID Department  Age  Salary\n",
      "0   EP01        NaN   45   40000\n",
      "1   EP02      Sales   35   50000\n",
      "2   EP03         HR   46   23455\n",
      "3   EP04         IT   25   67900\n",
      "4   EP05      Sales   31   35782\n",
      "5   EP06        NaN   38   45666\n"
     ]
    }
   ],
   "source": [
    "print(pd.merge(right=df1,left=df2,on=\"Emp ID\",how=\"right\"))"
   ]
  },
  {
   "cell_type": "code",
   "execution_count": 13,
   "id": "a9a49e14-8a83-4c8e-a4b9-0ce37f669e13",
   "metadata": {},
   "outputs": [],
   "source": [
    "d1={\"Emp ID\":[\"EP01\",\"EP02\",\"EP03\",\"EP04\",\"EP05\",\"EP06\"],\n",
    "  \"Age\":[45,35,46,25,31,38],\n",
    "  \"Salary\":[40000,50000,23455,67900,35782,45666]}\n",
    "d2={\"Emp ID\":[\"EP07\",\"EP08\",\"EP09\",\"EP10\",\"EP11\"],\n",
    "  \"Age\":[25,25,56,35,34],\n",
    "  \"Salary\":[40600,60000,33455,47900,55782]}\n",
    "\n",
    "df1=pd.DataFrame(d1)\n",
    "df2=pd.DataFrame(d2)"
   ]
  },
  {
   "cell_type": "code",
   "execution_count": 15,
   "id": "2464d8f1-d169-4d3c-92e0-a33e2832df1a",
   "metadata": {},
   "outputs": [
    {
     "name": "stdout",
     "output_type": "stream",
     "text": [
      "  Emp ID  Age  Salary\n",
      "0   EP01   45   40000\n",
      "1   EP02   35   50000\n",
      "2   EP03   46   23455\n",
      "3   EP04   25   67900\n",
      "4   EP05   31   35782\n",
      "5   EP06   38   45666\n",
      "0   EP07   25   40600\n",
      "1   EP08   25   60000\n",
      "2   EP09   56   33455\n",
      "3   EP10   35   47900\n",
      "4   EP11   34   55782\n"
     ]
    }
   ],
   "source": [
    "print(pd.concat([df1,df2]))"
   ]
  },
  {
   "cell_type": "code",
   "execution_count": null,
   "id": "6167ea72-4f98-413b-a04c-767a6aa0a5bd",
   "metadata": {},
   "outputs": [],
   "source": []
  }
 ],
 "metadata": {
  "kernelspec": {
   "display_name": "Python 3 (ipykernel)",
   "language": "python",
   "name": "python3"
  },
  "language_info": {
   "codemirror_mode": {
    "name": "ipython",
    "version": 3
   },
   "file_extension": ".py",
   "mimetype": "text/x-python",
   "name": "python",
   "nbconvert_exporter": "python",
   "pygments_lexer": "ipython3",
   "version": "3.11.3"
  }
 },
 "nbformat": 4,
 "nbformat_minor": 5
}
