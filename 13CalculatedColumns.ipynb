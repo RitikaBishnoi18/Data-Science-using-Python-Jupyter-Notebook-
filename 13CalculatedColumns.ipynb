{
 "cells": [
  {
   "cell_type": "code",
   "execution_count": 2,
   "id": "0a7522bf-89fb-4d5e-b836-20f99a75a91a",
   "metadata": {},
   "outputs": [],
   "source": [
    "import pandas as pd"
   ]
  },
  {
   "cell_type": "code",
   "execution_count": 3,
   "id": "f07a4a70-b888-4438-9c60-3fbfc42a3728",
   "metadata": {},
   "outputs": [
    {
     "name": "stdout",
     "output_type": "stream",
     "text": [
      "                    Item Name   Price  Quant\n",
      "0                       Laptop    800      5\n",
      "1          Wireless Headphones    120      2\n",
      "2                   Smartwatch    250      6\n",
      "3          Mechanical Keyboard    150      3\n",
      "4                 Gaming Mouse     50      9\n",
      "5                    Desk Lamp     30      3\n",
      "6                 Coffee Maker     80      1\n",
      "7                 Air Purifier    180      4\n",
      "8         Robot Vacuum Cleaner    300      8\n",
      "9  Noise Cancelling Headphones    200      1\n"
     ]
    }
   ],
   "source": [
    "df=pd.read_excel(\"C:/Users/Riya/Downloads/Items.xlsx\")\n",
    "print(df)"
   ]
  },
  {
   "cell_type": "code",
   "execution_count": 4,
   "id": "b3a573fc-913a-4c5c-a73e-d259f02a95cb",
   "metadata": {},
   "outputs": [
    {
     "name": "stdout",
     "output_type": "stream",
     "text": [
      "<class 'pandas.core.frame.DataFrame'>\n",
      "RangeIndex: 10 entries, 0 to 9\n",
      "Data columns (total 3 columns):\n",
      " #   Column      Non-Null Count  Dtype \n",
      "---  ------      --------------  ----- \n",
      " 0   Item Name   10 non-null     object\n",
      " 1   Price       10 non-null     int64 \n",
      " 2   Quant       10 non-null     int64 \n",
      "dtypes: int64(2), object(1)\n",
      "memory usage: 372.0+ bytes\n"
     ]
    }
   ],
   "source": [
    "df.info()"
   ]
  },
  {
   "cell_type": "code",
   "execution_count": 5,
   "id": "08a84e9a-2033-4cd1-acb9-7ac19e833c61",
   "metadata": {},
   "outputs": [
    {
     "name": "stdout",
     "output_type": "stream",
     "text": [
      "0    5\n",
      "1    2\n",
      "2    6\n",
      "3    3\n",
      "4    9\n",
      "5    3\n",
      "6    1\n",
      "7    4\n",
      "8    8\n",
      "9    1\n",
      "Name: Quant, dtype: int64\n"
     ]
    }
   ],
   "source": [
    "print(df[\"Quant\"])"
   ]
  },
  {
   "cell_type": "code",
   "execution_count": 6,
   "id": "611c5a56-6bd1-4966-8fb7-f1d59f8f701c",
   "metadata": {},
   "outputs": [
    {
     "name": "stdout",
     "output_type": "stream",
     "text": [
      "                    Item Name   Price  Quant  Total Price\n",
      "0                       Laptop    800      5         4000\n",
      "1          Wireless Headphones    120      2          240\n",
      "2                   Smartwatch    250      6         1500\n",
      "3          Mechanical Keyboard    150      3          450\n",
      "4                 Gaming Mouse     50      9          450\n",
      "5                    Desk Lamp     30      3           90\n",
      "6                 Coffee Maker     80      1           80\n",
      "7                 Air Purifier    180      4          720\n",
      "8         Robot Vacuum Cleaner    300      8         2400\n",
      "9  Noise Cancelling Headphones    200      1          200\n"
     ]
    }
   ],
   "source": [
    "df[\"Total Price\"]=df[\"Price\"]*df[\"Quant\"]\n",
    "print(df)"
   ]
  },
  {
   "cell_type": "code",
   "execution_count": 7,
   "id": "77769084-cc55-4d3a-a77b-ed508c4e7065",
   "metadata": {},
   "outputs": [],
   "source": [
    "df.loc[df[\"Price\"]>=200,\"Category\"]=\"Costly\"\n",
    "df.loc[df[\"Price\"]<200,\"Category\"]=\"Not Costly\""
   ]
  },
  {
   "cell_type": "code",
   "execution_count": 8,
   "id": "ac0b622e-19f2-4bfe-99f5-b4084b9b7a10",
   "metadata": {},
   "outputs": [
    {
     "name": "stdout",
     "output_type": "stream",
     "text": [
      "                    Item Name   Price  Quant  Total Price    Category\n",
      "0                       Laptop    800      5         4000      Costly\n",
      "1          Wireless Headphones    120      2          240  Not Costly\n",
      "2                   Smartwatch    250      6         1500      Costly\n",
      "3          Mechanical Keyboard    150      3          450  Not Costly\n",
      "4                 Gaming Mouse     50      9          450  Not Costly\n",
      "5                    Desk Lamp     30      3           90  Not Costly\n",
      "6                 Coffee Maker     80      1           80  Not Costly\n",
      "7                 Air Purifier    180      4          720  Not Costly\n",
      "8         Robot Vacuum Cleaner    300      8         2400      Costly\n",
      "9  Noise Cancelling Headphones    200      1          200      Costly\n"
     ]
    }
   ],
   "source": [
    "print(df)"
   ]
  },
  {
   "cell_type": "code",
   "execution_count": 12,
   "id": "5e391604-bb2a-4216-911e-87fa2952f7d3",
   "metadata": {},
   "outputs": [],
   "source": [
    "dt={\"Month\":[\"January\",\"February\",\"March\",\"April\",\"May\",\"June\",\"July\",\"August\",\"September\",\"October\",\"November\",\"December\"]}\n",
    "df=pd.DataFrame(dt)"
   ]
  },
  {
   "cell_type": "code",
   "execution_count": 13,
   "id": "b05c1837-bd50-4c62-b63c-e17b39dfbf12",
   "metadata": {},
   "outputs": [
    {
     "name": "stdout",
     "output_type": "stream",
     "text": [
      "        Month\n",
      "0     January\n",
      "1    February\n",
      "2       March\n",
      "3       April\n",
      "4         May\n",
      "5        June\n",
      "6        July\n",
      "7      August\n",
      "8   September\n",
      "9     October\n",
      "10   November\n",
      "11   December\n"
     ]
    }
   ],
   "source": [
    "print(df)"
   ]
  },
  {
   "cell_type": "code",
   "execution_count": 16,
   "id": "3dbc103c-913a-46e9-baf3-a5840a8ec8d5",
   "metadata": {},
   "outputs": [
    {
     "name": "stdout",
     "output_type": "stream",
     "text": [
      "        Month Short Month\n",
      "0     January         Jan\n",
      "1    February         Feb\n",
      "2       March         Mar\n",
      "3       April         Apr\n",
      "4         May         May\n",
      "5        June         Jun\n",
      "6        July         Jul\n",
      "7      August         Aug\n",
      "8   September         Sep\n",
      "9     October         Oct\n",
      "10   November         Nov\n",
      "11   December         Dec\n"
     ]
    }
   ],
   "source": [
    "# slice every element of month \n",
    "#you can create a method in which each element of iterable i.e df[\"Month\"] will be sent which will return sliced value \n",
    "#combing return value of all items finally and iterable will be returned where func was called ,this done using map func\n",
    "def Sliceval (val):\n",
    "    return val[0:3]\n",
    "\n",
    "df[\"Short Month\"]=df[\"Month\"].map(Sliceval)\n",
    "print(df)"
   ]
  }
 ],
 "metadata": {
  "kernelspec": {
   "display_name": "Python 3 (ipykernel)",
   "language": "python",
   "name": "python3"
  },
  "language_info": {
   "codemirror_mode": {
    "name": "ipython",
    "version": 3
   },
   "file_extension": ".py",
   "mimetype": "text/x-python",
   "name": "python",
   "nbconvert_exporter": "python",
   "pygments_lexer": "ipython3",
   "version": "3.11.3"
  }
 },
 "nbformat": 4,
 "nbformat_minor": 5
}
