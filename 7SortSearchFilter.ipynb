{
 "cells": [
  {
   "cell_type": "code",
   "execution_count": 1,
   "id": "56182683-37cd-4ee7-8e74-3aa1185f6487",
   "metadata": {},
   "outputs": [],
   "source": [
    "import numpy as np "
   ]
  },
  {
   "cell_type": "code",
   "execution_count": 3,
   "id": "60185da1-b26e-44fc-b657-3af0f87f6d7e",
   "metadata": {},
   "outputs": [
    {
     "name": "stdout",
     "output_type": "stream",
     "text": [
      "[1 2 4 7 8 9]\n",
      "[[1 2 9]\n",
      " [4 7 8]]\n"
     ]
    }
   ],
   "source": [
    "a=np.array([1,2,7,4,8,9])\n",
    "b=np.array([[1,9,2],[7,4,8]])\n",
    "print(np.sort(a))\n",
    "print(np.sort(b))"
   ]
  },
  {
   "cell_type": "code",
   "execution_count": 7,
   "id": "afa4c65a-0c86-4937-8baa-d2958334ad49",
   "metadata": {},
   "outputs": [
    {
     "name": "stdout",
     "output_type": "stream",
     "text": [
      "[1 2 4 7 8 9]\n",
      "2\n",
      "(array([2]),)\n",
      "(array([1, 2, 4]),)\n"
     ]
    }
   ],
   "source": [
    "a=np.sort(a)\n",
    "print(a)\n",
    "print(np.searchsorted(a,4))#works on sorted array if not sorted first sort array then tell element's index\n",
    "\n",
    "print(np.where(a==4))# check elements for condition and return list of index of all the elements that satisfy that condition\n",
    "print(np.where(a%2==0))"
   ]
  },
  {
   "cell_type": "code",
   "execution_count": 12,
   "id": "6104d795-7038-4ddf-9943-8a2e182c0f49",
   "metadata": {},
   "outputs": [
    {
     "name": "stdout",
     "output_type": "stream",
     "text": [
      "(array([1]), array([0]))\n",
      "(array([0, 1, 1]), array([2, 1, 2]))\n"
     ]
    }
   ],
   "source": [
    "print(np.where(b==7))\n",
    "print(np.where(b%2==0))# in 2D array with get 2 list and to find position of element we see b[i index in 1st list][i index in 2nd list]"
   ]
  },
  {
   "cell_type": "code",
   "execution_count": 15,
   "id": "af70e2ce-1111-4b80-9e3f-351b423c542e",
   "metadata": {},
   "outputs": [
    {
     "name": "stdout",
     "output_type": "stream",
     "text": [
      "2\n",
      "4\n",
      "8\n"
     ]
    }
   ],
   "source": [
    "#Now to print one of the elements that is divisile by 2 from given two list that were returned \n",
    "print(b[0,2])\n",
    "print(b[1,1])\n",
    "print(b[1,2])"
   ]
  },
  {
   "cell_type": "code",
   "execution_count": 16,
   "id": "ab2f5e6e-30dd-4427-b657-d5f1bcc7057d",
   "metadata": {},
   "outputs": [
    {
     "name": "stdout",
     "output_type": "stream",
     "text": [
      "[3 5 7]\n",
      "[3 5 7]\n"
     ]
    }
   ],
   "source": [
    "g=np.array([3,4,5,7,8,10])\n",
    "print(g[[True,False,True,True,False,False]])\n",
    "print(g[g%2 != 0])"
   ]
  },
  {
   "cell_type": "code",
   "execution_count": 17,
   "id": "1e9630b4-23b8-4fa9-82d7-f40fc6593581",
   "metadata": {},
   "outputs": [
    {
     "name": "stdout",
     "output_type": "stream",
     "text": [
      "[3 5 7]\n",
      "[3 5 7]\n"
     ]
    }
   ],
   "source": [
    "g=np.array([[3,4,5],[7,8,10]])\n",
    "print(g[[[True,False,True],[True,False,False]]])\n",
    "print(g[g%2 != 0])"
   ]
  }
 ],
 "metadata": {
  "kernelspec": {
   "display_name": "Python 3 (ipykernel)",
   "language": "python",
   "name": "python3"
  },
  "language_info": {
   "codemirror_mode": {
    "name": "ipython",
    "version": 3
   },
   "file_extension": ".py",
   "mimetype": "text/x-python",
   "name": "python",
   "nbconvert_exporter": "python",
   "pygments_lexer": "ipython3",
   "version": "3.11.3"
  }
 },
 "nbformat": 4,
 "nbformat_minor": 5
}
