{
 "cells": [
  {
   "cell_type": "code",
   "execution_count": 1,
   "id": "002333bc-7c9d-486c-ab86-927233b6f6b9",
   "metadata": {},
   "outputs": [],
   "source": [
    "import pandas as pd "
   ]
  },
  {
   "cell_type": "code",
   "execution_count": 11,
   "id": "6f622955-4dfb-4b0b-91cc-38ba2b641ef5",
   "metadata": {},
   "outputs": [
    {
     "name": "stdout",
     "output_type": "stream",
     "text": [
      "   First Name Last Name                         Email   UniqueCode  \\\n",
      "0         Amy         J                           NaN      E6P4R5P   \n",
      "1       Liana   Earlene             liana@jsimple.com       aaaaaa   \n",
      "2      Stacey     Brown  stacey@insurtechhartford.com      bbbbbbb   \n",
      "3       Lalit   Chauhan             lalit@jsimple.com        ccccc   \n",
      "4       Liana   Earlene             liana@jsimple.com      26SO8HI   \n",
      "5      Stacey     Brown  stacey@insurtechhartford.com  STACEYBROWN   \n",
      "6       Lalit   Chauhan             lalit@jsimple.com        LALIT   \n",
      "7      Khushi         k             khushik@gmail.com      5WE7EQ1   \n",
      "8      Stacey     Brown  stacey@insurtechhartford.com      5WE7EQ2   \n",
      "9       Lalit   Chauhan             lalit@jsimple.com      5WE7EQ3   \n",
      "10      Lalit   Chauhan             lalit@jsimple.com      5WE7EQ3   \n",
      "\n",
      "   Company Name Job Title  \n",
      "0       Jsimple        BA  \n",
      "1       Jsimple       xxx  \n",
      "2      HrOntips     yyyyy  \n",
      "3    Insuretech     zzzzz  \n",
      "4             1         1  \n",
      "5             1         1  \n",
      "6             1         1  \n",
      "7             1        11  \n",
      "8             1        11  \n",
      "9             1        11  \n",
      "10            1        11  \n"
     ]
    }
   ],
   "source": [
    "df=pd.read_excel(\"C:/Users/Riya/Downloads/PandasDuplicateCheck.xlsx\")\n",
    "print(df)"
   ]
  },
  {
   "cell_type": "code",
   "execution_count": 12,
   "id": "e3729b2e-54f1-4618-a739-f547facc1356",
   "metadata": {},
   "outputs": [
    {
     "data": {
      "text/plain": [
       "0     False\n",
       "1     False\n",
       "2     False\n",
       "3     False\n",
       "4     False\n",
       "5     False\n",
       "6     False\n",
       "7     False\n",
       "8     False\n",
       "9     False\n",
       "10     True\n",
       "dtype: bool"
      ]
     },
     "execution_count": 12,
     "metadata": {},
     "output_type": "execute_result"
    }
   ],
   "source": [
    "df.duplicated()#row wise tell if entire row duplicated "
   ]
  },
  {
   "cell_type": "code",
   "execution_count": 7,
   "id": "a9f9ab48-ceeb-4d6a-979b-fe22decd6b1e",
   "metadata": {},
   "outputs": [
    {
     "data": {
      "text/plain": [
       "0    False\n",
       "1    False\n",
       "2    False\n",
       "3    False\n",
       "4     True\n",
       "5     True\n",
       "6     True\n",
       "7    False\n",
       "8     True\n",
       "9     True\n",
       "Name: Email, dtype: bool"
      ]
     },
     "execution_count": 7,
     "metadata": {},
     "output_type": "execute_result"
    }
   ],
   "source": [
    "df[\"Email\"].duplicated()\n",
    "#row wise show all the rows that have duplicated 1st occurance of duplicate value as \"False\" like if Ritika 2 times 1st Ritika is false & second true"
   ]
  },
  {
   "cell_type": "code",
   "execution_count": 9,
   "id": "f30876b0-a9b4-4f16-8a73-0d09433a3af0",
   "metadata": {},
   "outputs": [
    {
     "data": {
      "text/plain": [
       "np.int64(5)"
      ]
     },
     "execution_count": 9,
     "metadata": {},
     "output_type": "execute_result"
    }
   ],
   "source": [
    "df[\"Email\"].duplicated().sum()# count of duplicated values(exclude 1st time existance of each just give extra duplicate count)"
   ]
  },
  {
   "cell_type": "code",
   "execution_count": 10,
   "id": "0f2425e3-700c-416a-ada7-d5f1ac91328e",
   "metadata": {},
   "outputs": [
    {
     "data": {
      "text/html": [
       "<div>\n",
       "<style scoped>\n",
       "    .dataframe tbody tr th:only-of-type {\n",
       "        vertical-align: middle;\n",
       "    }\n",
       "\n",
       "    .dataframe tbody tr th {\n",
       "        vertical-align: top;\n",
       "    }\n",
       "\n",
       "    .dataframe thead th {\n",
       "        text-align: right;\n",
       "    }\n",
       "</style>\n",
       "<table border=\"1\" class=\"dataframe\">\n",
       "  <thead>\n",
       "    <tr style=\"text-align: right;\">\n",
       "      <th></th>\n",
       "      <th>First Name</th>\n",
       "      <th>Last Name</th>\n",
       "      <th>Email</th>\n",
       "      <th>UniqueCode</th>\n",
       "      <th>Company Name</th>\n",
       "      <th>Job Title</th>\n",
       "    </tr>\n",
       "  </thead>\n",
       "  <tbody>\n",
       "    <tr>\n",
       "      <th>0</th>\n",
       "      <td>Amy</td>\n",
       "      <td>J</td>\n",
       "      <td>NaN</td>\n",
       "      <td>E6P4R5P</td>\n",
       "      <td>Jsimple</td>\n",
       "      <td>BA</td>\n",
       "    </tr>\n",
       "    <tr>\n",
       "      <th>1</th>\n",
       "      <td>Liana</td>\n",
       "      <td>Earlene</td>\n",
       "      <td>liana@jsimple.com</td>\n",
       "      <td>aaaaaa</td>\n",
       "      <td>Jsimple</td>\n",
       "      <td>xxx</td>\n",
       "    </tr>\n",
       "    <tr>\n",
       "      <th>2</th>\n",
       "      <td>Stacey</td>\n",
       "      <td>Brown</td>\n",
       "      <td>stacey@insurtechhartford.com</td>\n",
       "      <td>bbbbbbb</td>\n",
       "      <td>HrOntips</td>\n",
       "      <td>yyyyy</td>\n",
       "    </tr>\n",
       "    <tr>\n",
       "      <th>3</th>\n",
       "      <td>Lalit</td>\n",
       "      <td>Chauhan</td>\n",
       "      <td>lalit@jsimple.com</td>\n",
       "      <td>ccccc</td>\n",
       "      <td>Insuretech</td>\n",
       "      <td>zzzzz</td>\n",
       "    </tr>\n",
       "    <tr>\n",
       "      <th>7</th>\n",
       "      <td>Khushi</td>\n",
       "      <td>k</td>\n",
       "      <td>khushik@gmail.com</td>\n",
       "      <td>5WE7EQ1</td>\n",
       "      <td>1</td>\n",
       "      <td>11</td>\n",
       "    </tr>\n",
       "  </tbody>\n",
       "</table>\n",
       "</div>"
      ],
      "text/plain": [
       "  First Name Last Name                         Email UniqueCode Company Name  \\\n",
       "0        Amy         J                           NaN    E6P4R5P      Jsimple   \n",
       "1      Liana   Earlene             liana@jsimple.com     aaaaaa      Jsimple   \n",
       "2     Stacey     Brown  stacey@insurtechhartford.com    bbbbbbb     HrOntips   \n",
       "3      Lalit   Chauhan             lalit@jsimple.com      ccccc   Insuretech   \n",
       "7     Khushi         k             khushik@gmail.com    5WE7EQ1            1   \n",
       "\n",
       "  Job Title  \n",
       "0        BA  \n",
       "1       xxx  \n",
       "2     yyyyy  \n",
       "3     zzzzz  \n",
       "7        11  "
      ]
     },
     "execution_count": 10,
     "metadata": {},
     "output_type": "execute_result"
    }
   ],
   "source": [
    "df.drop_duplicates(\"Email\")#Keep first occurance of each duplicate col value and drop others and then print them "
   ]
  },
  {
   "cell_type": "code",
   "execution_count": 17,
   "id": "1f5be3ea-15b8-4c1b-807c-7444622b0adc",
   "metadata": {},
   "outputs": [],
   "source": [
    "df=df.drop_duplicates()#Keep first occurance of each duplicate row and drop others \n",
    "#since changes are not made to df but a new df creted then use assignment for same "
   ]
  },
  {
   "cell_type": "code",
   "execution_count": 16,
   "id": "93e5070e-94b3-42c9-9d7a-97aa990763d2",
   "metadata": {},
   "outputs": [
    {
     "name": "stdout",
     "output_type": "stream",
     "text": [
      "  First Name Last Name                         Email   UniqueCode  \\\n",
      "0        Amy         J                           NaN      E6P4R5P   \n",
      "1      Liana   Earlene             liana@jsimple.com       aaaaaa   \n",
      "2     Stacey     Brown  stacey@insurtechhartford.com      bbbbbbb   \n",
      "3      Lalit   Chauhan             lalit@jsimple.com        ccccc   \n",
      "4      Liana   Earlene             liana@jsimple.com      26SO8HI   \n",
      "5     Stacey     Brown  stacey@insurtechhartford.com  STACEYBROWN   \n",
      "6      Lalit   Chauhan             lalit@jsimple.com        LALIT   \n",
      "7     Khushi         k             khushik@gmail.com      5WE7EQ1   \n",
      "8     Stacey     Brown  stacey@insurtechhartford.com      5WE7EQ2   \n",
      "9      Lalit   Chauhan             lalit@jsimple.com      5WE7EQ3   \n",
      "\n",
      "  Company Name Job Title  \n",
      "0      Jsimple        BA  \n",
      "1      Jsimple       xxx  \n",
      "2     HrOntips     yyyyy  \n",
      "3   Insuretech     zzzzz  \n",
      "4            1         1  \n",
      "5            1         1  \n",
      "6            1         1  \n",
      "7            1        11  \n",
      "8            1        11  \n",
      "9            1        11  \n"
     ]
    }
   ],
   "source": [
    "print(df)"
   ]
  }
 ],
 "metadata": {
  "kernelspec": {
   "display_name": "Python 3 (ipykernel)",
   "language": "python",
   "name": "python3"
  },
  "language_info": {
   "codemirror_mode": {
    "name": "ipython",
    "version": 3
   },
   "file_extension": ".py",
   "mimetype": "text/x-python",
   "name": "python",
   "nbconvert_exporter": "python",
   "pygments_lexer": "ipython3",
   "version": "3.11.3"
  }
 },
 "nbformat": 4,
 "nbformat_minor": 5
}
