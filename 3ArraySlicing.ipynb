{
 "cells": [
  {
   "cell_type": "code",
   "execution_count": 3,
   "id": "001320a3-9016-41de-afd7-f71f3ea7b465",
   "metadata": {},
   "outputs": [],
   "source": [
    "import numpy as np"
   ]
  },
  {
   "cell_type": "code",
   "execution_count": 10,
   "id": "178d303f-8e83-483a-a34e-a2ea774f6f6e",
   "metadata": {},
   "outputs": [
    {
     "name": "stdout",
     "output_type": "stream",
     "text": [
      "[10 20 30]\n",
      "[30 40]\n",
      "[40 30 20 10]\n",
      "[10 20 30 40]\n"
     ]
    }
   ],
   "source": [
    "a=np.array([10,20,30,40])\n",
    "print(a[0:3])\n",
    "print(a[2:])\n",
    "print(a[::-1])\n",
    "b=a[:]\n",
    "print(b)"
   ]
  },
  {
   "cell_type": "code",
   "execution_count": 22,
   "id": "2d6bfecf-9aef-4eb4-83b8-21ea1ad4076e",
   "metadata": {},
   "outputs": [
    {
     "name": "stdout",
     "output_type": "stream",
     "text": [
      "[[20 30 40]\n",
      " [60 70 80]]\n"
     ]
    }
   ],
   "source": [
    "b=np.array([[10,20,30,40],[50,60,70,80]])\n",
    "print(b[0:2,1:])#possible for 2D Array with 2 rows"
   ]
  },
  {
   "cell_type": "code",
   "execution_count": 25,
   "id": "5b40c083-dd50-4dcf-83f7-c761dadaecdf",
   "metadata": {},
   "outputs": [
    {
     "name": "stdout",
     "output_type": "stream",
     "text": [
      "[20 30 40]\n",
      "[40 30 20 10]\n"
     ]
    }
   ],
   "source": [
    "b=np.array([[10,20,30,40],[50,60,70,80]])\n",
    "print(b[0,1:])#possible for 2D array with any number of rows-> from 0th row show array from 1st index till end \n",
    "print(b[0,::-1])#reversing also possible\n",
    "print(c[0,2])#possible for 2D array with any number of rows->from 0th row show only one element present at 2nd index"
   ]
  },
  {
   "cell_type": "code",
   "execution_count": 6,
   "id": "ec45ff23-9b60-44bb-bf82-447a181535ab",
   "metadata": {},
   "outputs": [
    {
     "name": "stdout",
     "output_type": "stream",
     "text": [
      "[40 50 30]\n"
     ]
    }
   ],
   "source": [
    "c=np.array([[10,20,30,40],[50,60,70,80],[20,40,50,30]])\n",
    "print(c[2,1:])\n",
    "#print(c[0:2,0:2,0:2]) Not possible for 2D Array with 3 rows "
   ]
  },
  {
   "cell_type": "code",
   "execution_count": null,
   "id": "5804a0a6-0404-443e-bf8b-fcf33d6544b2",
   "metadata": {},
   "outputs": [],
   "source": []
  }
 ],
 "metadata": {
  "kernelspec": {
   "display_name": "Python 3 (ipykernel)",
   "language": "python",
   "name": "python3"
  },
  "language_info": {
   "codemirror_mode": {
    "name": "ipython",
    "version": 3
   },
   "file_extension": ".py",
   "mimetype": "text/x-python",
   "name": "python",
   "nbconvert_exporter": "python",
   "pygments_lexer": "ipython3",
   "version": "3.11.3"
  }
 },
 "nbformat": 4,
 "nbformat_minor": 5
}
