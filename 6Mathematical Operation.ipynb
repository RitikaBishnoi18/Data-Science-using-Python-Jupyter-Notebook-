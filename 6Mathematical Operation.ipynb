{
 "cells": [
  {
   "cell_type": "code",
   "execution_count": 1,
   "id": "ce587b9a-a9ba-4ae5-b0d5-5eabf943e2c3",
   "metadata": {},
   "outputs": [],
   "source": [
    "import numpy as np "
   ]
  },
  {
   "cell_type": "code",
   "execution_count": 2,
   "id": "b8a3e819-5fbe-4d08-983d-4388a7e4ba3a",
   "metadata": {},
   "outputs": [
    {
     "name": "stdout",
     "output_type": "stream",
     "text": [
      "[[ 5 13]\n",
      " [35 97]]\n",
      "[[ 1  5]\n",
      " [19 65]]\n",
      "[[   6   36]\n",
      " [ 216 1296]]\n",
      "[[1.5    2.25  ]\n",
      " [3.375  5.0625]]\n",
      "[[1 2]\n",
      " [3 5]]\n",
      "[[1 1]\n",
      " [3 1]]\n"
     ]
    }
   ],
   "source": [
    "a=np.array([[3,9],[27,81]])\n",
    "b=np.array([[2,4],[8,16]])\n",
    "c=np.array([3])\n",
    "d=np.array([2])\n",
    "print(a+b)\n",
    "print(a-b)\n",
    "print(a*b)\n",
    "print(a/b)\n",
    "print(a//b)\n",
    "print(a%b)\n"
   ]
  },
  {
   "cell_type": "code",
   "execution_count": 3,
   "id": "a383eb91-d8ba-4c1a-8214-cbd781edfd2b",
   "metadata": {},
   "outputs": [
    {
     "name": "stdout",
     "output_type": "stream",
     "text": [
      "[[ 6 12]\n",
      " [30 84]]\n",
      "[[ 0  6]\n",
      " [24 78]]\n",
      "[[  9  27]\n",
      " [ 81 243]]\n",
      "[[ 1.  3.]\n",
      " [ 9. 27.]]\n",
      "[[ 1  3]\n",
      " [ 9 27]]\n",
      "[[0 0]\n",
      " [0 0]]\n"
     ]
    }
   ],
   "source": [
    "print(a+c)\n",
    "print(a-c)\n",
    "print(a*c)\n",
    "print(a/c)\n",
    "print(a//c)\n",
    "print(a%c)"
   ]
  },
  {
   "cell_type": "code",
   "execution_count": 7,
   "id": "8ea5e0bd-9dd3-4885-b048-b5eaf17ffa46",
   "metadata": {},
   "outputs": [
    {
     "name": "stdout",
     "output_type": "stream",
     "text": [
      "[[ 5 13]\n",
      " [35 97]]\n",
      "[[ 1  5]\n",
      " [19 65]]\n",
      "[[   6   36]\n",
      " [ 216 1296]]\n",
      "[[1.5    2.25  ]\n",
      " [3.375  5.0625]]\n"
     ]
    }
   ],
   "source": [
    "print(np.add(a,b))\n",
    "print(np.subtract(a,b))\n",
    "print(np.multiply(a,b))\n",
    "print(np.divide(a,b))"
   ]
  },
  {
   "cell_type": "code",
   "execution_count": 8,
   "id": "6822dbd0-1924-414c-b0b0-2443684dcab7",
   "metadata": {},
   "outputs": [
    {
     "name": "stdout",
     "output_type": "stream",
     "text": [
      "[[    27    729]\n",
      " [ 19683 531441]]\n",
      "[[1.73205081 3.        ]\n",
      " [5.19615242 9.        ]]\n"
     ]
    }
   ],
   "source": [
    "print(np.pow(a,c))\n",
    "print(np.sqrt(a))"
   ]
  },
  {
   "cell_type": "code",
   "execution_count": 9,
   "id": "66ecc275-ecb7-475c-b35b-ecadb77dc83b",
   "metadata": {},
   "outputs": [
    {
     "name": "stdout",
     "output_type": "stream",
     "text": [
      "[[                  9                6561]\n",
      " [       282429536481 8733086111712066817]]\n"
     ]
    }
   ],
   "source": [
    "print(np.pow(a,b))"
   ]
  },
  {
   "cell_type": "code",
   "execution_count": null,
   "id": "145797ba-cbca-4e4d-a810-b4113fa57e45",
   "metadata": {},
   "outputs": [],
   "source": []
  }
 ],
 "metadata": {
  "kernelspec": {
   "display_name": "Python 3 (ipykernel)",
   "language": "python",
   "name": "python3"
  },
  "language_info": {
   "codemirror_mode": {
    "name": "ipython",
    "version": 3
   },
   "file_extension": ".py",
   "mimetype": "text/x-python",
   "name": "python",
   "nbconvert_exporter": "python",
   "pygments_lexer": "ipython3",
   "version": "3.11.3"
  }
 },
 "nbformat": 4,
 "nbformat_minor": 5
}
