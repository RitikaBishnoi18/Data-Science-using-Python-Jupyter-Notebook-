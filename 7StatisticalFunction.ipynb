{
 "cells": [
  {
   "cell_type": "code",
   "execution_count": 2,
   "id": "eec477b2-b7ee-41bb-8852-8f4ac09234cd",
   "metadata": {},
   "outputs": [],
   "source": [
    "import numpy as np\n",
    "import statistics as stats"
   ]
  },
  {
   "cell_type": "code",
   "execution_count": 4,
   "id": "2e0a0c0d-95a6-484b-bab7-b0a69447c987",
   "metadata": {},
   "outputs": [
    {
     "name": "stdout",
     "output_type": "stream",
     "text": [
      "21.2\n",
      "21.2\n",
      "21.0\n",
      "20\n",
      "1.17\n",
      "1.36\n"
     ]
    }
   ],
   "source": [
    "a=np.array([20,21,20,22,23])\n",
    "print(np.mean(a))\n",
    "print(a.mean())#correcr both ways \n",
    "print(np.median(a))\n",
    "print(stats.mode(a))#mode function not in numpy but present in statistics \n",
    "print(f\"{np.std(a):.2f}\")\n",
    "print(f\"{np.var(a):.2f}\")"
   ]
  },
  {
   "cell_type": "code",
   "execution_count": 8,
   "id": "ca319766-4d15-4ed7-b49e-1c426e91ac6e",
   "metadata": {
    "scrolled": true
   },
   "outputs": [
    {
     "name": "stdout",
     "output_type": "stream",
     "text": [
      "[[1.         0.97448179]\n",
      " [0.97448179 1.        ]]\n"
     ]
    }
   ],
   "source": [
    "heights = np.array([22.5, 20.8, 23.1, 21.7, 19.9, 24.2, 20.5, 22.9, 21.2, 18.7])\n",
    "widths = np.array([18.2, 17.5, 19.4, 18.7, 16.8, 20.1, 17.2, 19.0, 18.1, 15.9])\n",
    "print(np.corrcoef(heights,widths))"
   ]
  }
 ],
 "metadata": {
  "kernelspec": {
   "display_name": "Python 3 (ipykernel)",
   "language": "python",
   "name": "python3"
  },
  "language_info": {
   "codemirror_mode": {
    "name": "ipython",
    "version": 3
   },
   "file_extension": ".py",
   "mimetype": "text/x-python",
   "name": "python",
   "nbconvert_exporter": "python",
   "pygments_lexer": "ipython3",
   "version": "3.11.3"
  }
 },
 "nbformat": 4,
 "nbformat_minor": 5
}
